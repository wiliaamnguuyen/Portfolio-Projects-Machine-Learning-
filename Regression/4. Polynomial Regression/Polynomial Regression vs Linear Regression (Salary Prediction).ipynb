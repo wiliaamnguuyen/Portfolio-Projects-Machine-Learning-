{
 "cells": [
  {
   "cell_type": "markdown",
   "metadata": {},
   "source": [
    "# Polynomial Regression\n",
    "\n",
    "Polynomial Regression would come in handy when simple linear regression does not fit quite well. \n",
    "- Polynomial regression is not a linear regressor. \n",
    "    - With linear and non linear regression, it is good to mention that it is not talking about the 'x' variables. \n",
    "    - When talking about the class of regression (linear/non-linear), you're focusing on the coefficients. \n",
    "    - To find out whether it is linear regression, ask yourself **_\"Is this function expressed as a linear combination of these unknown coefficients?\"_**\n",
    "    - My goal is basically to find these coefficients their actual value so I can use these coefficients to plug in X, and predict Y. "
   ]
  },
  {
   "cell_type": "markdown",
   "metadata": {},
   "source": [
    "# Business Problem \n",
    "A HR team working for a big company and need to make an offer to this new employee. \n",
    "- He has 20 years of experience and earning $160,000 in previous role \n",
    "- HR team gathers information from previous company to confirm above information, however they gathered only a dataset of salaries for 10 different positions in a previous company. \n",
    "\n",
    "# Goal\n",
    "New employee informs HR team that its previous annual salary is 160,000. I want to investigate this problem through data analysis to see if his telling the truth by building a polynomial regression model. \n",
    "\n"
   ]
  },
  {
   "cell_type": "markdown",
   "metadata": {},
   "source": [
    "# Data Preprocessing \n",
    "Looking at the below table, I would like to predict his previous salary based on the different levels in the dataset and predict the salary of level 6.5 from there. \n",
    "\n",
    "Note: \n",
    "- I do not need the **Position** column\n",
    "- The amchine will learn the correlations between the levels and the salaries to predict if the employee is lying about its salary of $160,000. \n",
    "\n",
    "Code Notes:\n",
    "- When creating the dataframe X = dataset.iloc[:,1:2]; it is necessary to frame it this way instead of X = dataset.iloc[:,1] even though it is basically the same action. \n",
    "- The reason is because you don't want X seen as a vector, I want my matrix of features seen as a matrix and not a vector. "
   ]
  },
  {
   "cell_type": "code",
   "execution_count": 6,
   "metadata": {},
   "outputs": [
    {
     "name": "stdout",
     "output_type": "stream",
     "text": [
      "            Position  Level   Salary\n",
      "0   Business Analyst      1    45000\n",
      "1  Junior Consultant      2    50000\n",
      "2  Senior Consultant      3    60000\n",
      "3            Manager      4    80000\n",
      "4    Country Manager      5   110000\n",
      "5     Region Manager      6   150000\n",
      "6            Partner      7   200000\n",
      "7     Senior Partner      8   300000\n",
      "8            C-level      9   500000\n",
      "9                CEO     10  1000000\n"
     ]
    }
   ],
   "source": [
    "#DATA PREPROCESSING\n",
    "#Import the libaries \n",
    "import numpy as np \n",
    "import matplotlib.pyplot as plt \n",
    "import pandas as pd \n",
    "\n",
    "#Importing the dataset\n",
    "dataset = pd.read_csv(\"Position_Salaries.csv\")\n",
    "X = dataset.iloc[:,1:2].values\n",
    "Y = dataset.iloc[:,2:].values\n",
    "print(dataset)"
   ]
  },
  {
   "cell_type": "markdown",
   "metadata": {},
   "source": [
    "# Fitting Linear Regression into Dataset\n",
    "\n",
    "Note:\n",
    "- No need to split the dataset into training and test set. \n",
    "    - Our dataset has only 10 observations \n",
    "    - With this small amount of observations, it doesn't make sense to split dataset into training and test set because I **_don't have enough informationto train a model on the one set and test its performance on another set_**\n",
    "    - To make the most accurate prediction, I need as much information as possible so my model can understand the correlations. "
   ]
  },
  {
   "cell_type": "code",
   "execution_count": 7,
   "metadata": {},
   "outputs": [
    {
     "data": {
      "text/plain": [
       "LinearRegression(copy_X=True, fit_intercept=True, n_jobs=1, normalize=False)"
      ]
     },
     "execution_count": 7,
     "metadata": {},
     "output_type": "execute_result"
    }
   ],
   "source": [
    "#Fitting Linear Regression to the dataset\n",
    "from sklearn.linear_model import LinearRegression\n",
    "lin_reg = LinearRegression()\n",
    "lin_reg.fit(X,Y)"
   ]
  },
  {
   "cell_type": "markdown",
   "metadata": {},
   "source": [
    "# Fitting Polynomial Regression into Dataset\n",
    "Using the below **_polymorphic object (transformer tool)_** that will transform our matrix of features X into a new matrix of features named **_X_poly_**\n",
    "- Below I transformed my original of matrix X, into new matrix of feature **X_poly** containing the original independent variable position levels and its associated polynomial terms. "
   ]
  },
  {
   "cell_type": "code",
   "execution_count": 15,
   "metadata": {},
   "outputs": [
    {
     "name": "stdout",
     "output_type": "stream",
     "text": [
      "[[ 1]\n",
      " [ 2]\n",
      " [ 3]\n",
      " [ 4]\n",
      " [ 5]\n",
      " [ 6]\n",
      " [ 7]\n",
      " [ 8]\n",
      " [ 9]\n",
      " [10]]\n",
      "[[  1.   1.   1.]\n",
      " [  1.   2.   4.]\n",
      " [  1.   3.   9.]\n",
      " [  1.   4.  16.]\n",
      " [  1.   5.  25.]\n",
      " [  1.   6.  36.]\n",
      " [  1.   7.  49.]\n",
      " [  1.   8.  64.]\n",
      " [  1.   9.  81.]\n",
      " [  1.  10. 100.]]\n"
     ]
    }
   ],
   "source": [
    "from sklearn.preprocessing import PolynomialFeatures\n",
    "poly_reg = PolynomialFeatures(degree = 2)\n",
    "#Fit our object to X, and transform X into X_poly\n",
    "X_poly = poly_reg.fit_transform(X)\n",
    "poly_reg.fit(X_poly,Y)\n",
    "print(X)\n",
    "print(X_poly)"
   ]
  },
  {
   "cell_type": "markdown",
   "metadata": {},
   "source": [
    "The position levels of 'X' correspond to middle column of X_poly and that corresponds to X1 independent variable. \n",
    "- The third column is the square of the second column and that is the polynomial term (X1)^2. \n",
    "- The first column was _automatically_ created as a result of the Polynomial Regression object to include the colimn of ones as the constant B0 (B0*X0).\n",
    "\n",
    "## Second Linear Regression Object\n",
    "Below, I will be creating a new linear regression object to not make any confusion with the first one. The purpose with this second object will be to include this fit that I made with my polynomial regression (poly_reg). \n",
    "- Fitting this second regression object to X_poly that I created and Y\n",
    "- Once X_poly was created (new matrix of features), the linear regression object will be fitted to X_poly"
   ]
  },
  {
   "cell_type": "code",
   "execution_count": 10,
   "metadata": {},
   "outputs": [
    {
     "data": {
      "text/plain": [
       "LinearRegression(copy_X=True, fit_intercept=True, n_jobs=1, normalize=False)"
      ]
     },
     "execution_count": 10,
     "metadata": {},
     "output_type": "execute_result"
    }
   ],
   "source": [
    "lin_reg_2 = LinearRegression()\n",
    "lin_reg_2.fit(X_poly,Y)"
   ]
  },
  {
   "cell_type": "markdown",
   "metadata": {},
   "source": [
    "# Visualising the Linear Regression Results \n",
    "Regression model has been completed and now I will analyse the results to see whether the new employee was bluffing whether his previous salary was $160,000. \n",
    "\n",
    "## Objective\n",
    "- I built a linear regressor and a polynomial regressor \n",
    "- Just for fun, I built the linear regression model as well to compare the polynomial regression results to this reference based model here (linear regression)\n",
    "- Below, I will visualise the results of both model to see which model best fits the observation points\n",
    "    - I started plotting in **red** the true observation points for salary and position level then build the predictions of my model. \n",
    "    - In **blue**, the second argument for plotting is the vector containing the y-coordinate of prediction points. "
   ]
  },
  {
   "cell_type": "code",
   "execution_count": 12,
   "metadata": {},
   "outputs": [
    {
     "data": {
      "text/plain": [
       "<function matplotlib.pyplot.show(*args, **kw)>"
      ]
     },
     "execution_count": 12,
     "metadata": {},
     "output_type": "execute_result"
    },
    {
     "data": {
      "image/png": "[encoded data removed]",
      "text/plain": [
       "<Figure size 432x288 with 1 Axes>"
      ]
     },
     "metadata": {},
     "output_type": "display_data"
    }
   ],
   "source": [
    "plt.scatter(X,Y,color=\"red\")\n",
    "plt.plot(X,lin_reg.predict(X),color=\"blue\")\n",
    "plt.title(\"Truth or Bluff (Linear Regression)\")\n",
    "plt.xlabel(\"Position Level\")\n",
    "plt.ylabel(\"Salary\")\n",
    "plt.show"
   ]
  },
  {
   "cell_type": "markdown",
   "metadata": {},
   "source": [
    "## Observations\n",
    "Bad model, thus we need to make a better model to make better predicted salaries; this is apparent through the above graph. \n",
    "\n",
    "Observing salary for level 6.5, it is 300,000 thousand dollars\n",
    "- Meaning, if the employee had not mentioned his previous salary is $160,000, then we would have to pay more. "
   ]
  },
  {
   "cell_type": "markdown",
   "metadata": {},
   "source": [
    "# Visualising Polynomial Regression Results\n",
    "\n",
    "- It is not simple to plot in **blue** the linear regression model with the below:\n",
    "    - ~~plt.plot(X,lin_reg_2.predict(X),color=\"blue\")~~\n",
    "    - The reason the line of code above is incorrect is due to the object **lin_reg_2** is an object of the linear regression class and not polynomial regression class. \n",
    "    - There are no polynomial features with this object\n",
    "    - Need to get predictions of the polynomial regression model\n",
    "- Note, I transformed matrix of features X into X_poly containing the position levels\n",
    "    - Instead of doing the striked-out code above, I inputted the new matrix of features containing the polynomial features"
   ]
  },
  {
   "cell_type": "code",
   "execution_count": 14,
   "metadata": {},
   "outputs": [
    {
     "data": {
      "image/png": "[encoded data removed]",
      "text/plain": [
       "<Figure size 432x288 with 1 Axes>"
      ]
     },
     "metadata": {},
     "output_type": "display_data"
    }
   ],
   "source": [
    "plt.scatter(X,Y,color= \"red\")\n",
    "plt.plot(X,lin_reg_2.predict(poly_reg.fit_transform(X)),color=\"blue\")\n",
    "plt.title(\"Truth or Bluff (Polynomial Regression)\")\n",
    "plt.xlabel(\"Position Level\")\n",
    "plt.ylabel(\"Salary\")\n",
    "plt.show()"
   ]
  },
  {
   "cell_type": "markdown",
   "metadata": {},
   "source": [
    "## Observations\n",
    "There is no best fitting line, but a curve hence proving again that Polynomial Regression is not linear regression. \n",
    "\n",
    "Observing the salary for position level 6.5, and I observe a salary approximately $200,000 which is much better than the linear regression model results. \n",
    "\n",
    "I want to improve my Polynomial Regression results even further; I modified the degree of the polynomial regression model. "
   ]
  },
  {
   "cell_type": "code",
   "execution_count": 17,
   "metadata": {},
   "outputs": [
    {
     "data": {
      "image/png": "[encoded data removed]",
      "text/plain": [
       "<Figure size 432x288 with 1 Axes>"
      ]
     },
     "metadata": {},
     "output_type": "display_data"
    }
   ],
   "source": [
    "poly_reg = PolynomialFeatures(degree=3)\n",
    "X_poly = poly_reg.fit_transform(X)\n",
    "poly_reg.fit(X_poly,Y)\n",
    "lin_reg_2 = LinearRegression()\n",
    "lin_reg_2.fit(X_poly,Y)\n",
    "\n",
    "#Visualising again\n",
    "plt.scatter(X,Y,color= \"red\")\n",
    "plt.plot(X,lin_reg_2.predict(poly_reg.fit_transform(X)),color=\"blue\")\n",
    "plt.title(\"Truth or Bluff (Polynomial Regression)\")\n",
    "plt.xlabel(\"Position Level\")\n",
    "plt.ylabel(\"Salary\")\n",
    "plt.show()"
   ]
  },
  {
   "cell_type": "markdown",
   "metadata": {},
   "source": [
    "## Observation of a Modified Model\n",
    "This is a polynomial regression model with a degree = 3, it is a better model than before. When observing the position level 6.5, we will see a predicted salary according to our new optimal model; a salary close to the employee's $160,000 previous salary. \n",
    "\n",
    "Creating a further better model by increasing the degree of the polynomial regression model:"
   ]
  },
  {
   "cell_type": "code",
   "execution_count": 18,
   "metadata": {},
   "outputs": [
    {
     "data": {
      "image/png": "[encoded data removed]",
      "text/plain": [
       "<Figure size 432x288 with 1 Axes>"
      ]
     },
     "metadata": {},
     "output_type": "display_data"
    }
   ],
   "source": [
    "poly_reg = PolynomialFeatures(degree=4)\n",
    "X_poly = poly_reg.fit_transform(X)\n",
    "poly_reg.fit(X_poly,Y)\n",
    "lin_reg_2 = LinearRegression()\n",
    "lin_reg_2.fit(X_poly,Y)\n",
    "\n",
    "#Visualising again\n",
    "plt.scatter(X,Y,color= \"red\")\n",
    "plt.plot(X,lin_reg_2.predict(poly_reg.fit_transform(X)),color=\"blue\")\n",
    "plt.title(\"Truth or Bluff (Polynomial Regression)\")\n",
    "plt.xlabel(\"Position Level\")\n",
    "plt.ylabel(\"Salary\")\n",
    "plt.show()"
   ]
  },
  {
   "cell_type": "markdown",
   "metadata": {},
   "source": [
    "## Observations of a Better Model\n",
    "I can see this polynomial regression model fits the observation data points very well, and thus it would give me an accurate prediction of the salary of a position level of 6.5. This would then tell me if this new employee was telling the truth of its previous salary. "
   ]
  },
  {
   "cell_type": "markdown",
   "metadata": {},
   "source": [
    "## More Advanced Plot\n",
    "Instead of having the position levels from 1-10 incremented by only 1, I want to have predictions from 1 to 10 incremented by a higher resolution; 0.1 step increment. \n"
   ]
  },
  {
   "cell_type": "code",
   "execution_count": 19,
   "metadata": {},
   "outputs": [
    {
     "data": {
      "image/png": "[encoded data removed]",
      "text/plain": [
       "<Figure size 432x288 with 1 Axes>"
      ]
     },
     "metadata": {},
     "output_type": "display_data"
    }
   ],
   "source": [
    "#Specify lower bound and max bound of X\n",
    "X_grid = np.arange(min(X), max(X),0.1)\n",
    "#This gives us a vector, but we want a matrix\n",
    "X_grid = X_grid.reshape((len(X_grid),1))\n",
    "\n",
    "plt.scatter(X,Y,color= \"red\")\n",
    "plt.plot(X_grid,lin_reg_2.predict(poly_reg.fit_transform(X_grid)),color=\"blue\")\n",
    "plt.title(\"Truth or Bluff (Polynomial Regression)\")\n",
    "plt.xlabel(\"Position Level\")\n",
    "plt.ylabel(\"Salary\")\n",
    "plt.show()"
   ]
  },
  {
   "cell_type": "markdown",
   "metadata": {},
   "source": [
    "## Final Prediction\n",
    "Predicting a new result with Linear Regression; I can observe that the Polynomial Regression Model fits much better than the Linear Regression model.\n",
    "\n",
    "Employee previous level 6.5, results with Linear Regression Model shows a salary of $330,000 which is not the best model. \n",
    "\n",
    "Afterwards, I wanted to compare this result to a new result with Polynomial Regression model. The results show the salary predicted with this better optimal model is $158,000; thus the employee is truthful. "
   ]
  },
  {
   "cell_type": "code",
   "execution_count": 22,
   "metadata": {},
   "outputs": [
    {
     "name": "stdout",
     "output_type": "stream",
     "text": [
      "Linear Regression Model Salary Prediction:  [[330378.78787879]]\n",
      "Polynomial Regression Model Salary Predictions:  [[158862.45265153]]\n"
     ]
    }
   ],
   "source": [
    "print(\"Linear Regression Model Salary Prediction: \",lin_reg.predict(6.5))\n",
    "print(\"Polynomial Regression Model Salary Predictions: \",lin_reg_2.predict(poly_reg.fit_transform(6.5)))"
   ]
  }
 ],
 "metadata": {
  "kernelspec": {
   "display_name": "Python 3",
   "language": "python",
   "name": "python3"
  },
  "language_info": {
   "codemirror_mode": {
    "name": "ipython",
    "version": 3
   },
   "file_extension": ".py",
   "mimetype": "text/x-python",
   "name": "python",
   "nbconvert_exporter": "python",
   "pygments_lexer": "ipython3",
   "version": "3.6.5"
  }
 },
 "nbformat": 4,
 "nbformat_minor": 2
}
