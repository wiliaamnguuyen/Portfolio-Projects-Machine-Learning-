{
 "cells": [
  {
   "cell_type": "markdown",
   "metadata": {},
   "source": [
    "# Business Problem Description\n",
    "\n",
    "The dataset given to us shows two columns that displays years of _experience_ as the _independent variable_ and _salary_ as the dependent variable of which we are trying to predict. \n",
    "- There are 30 observations for 30 random people, each individual with their observations on the amount of experience they have and their salary. \n",
    "\n",
    "In this problem, I want to dive in and explore to see if there are any sort of correlation or specifically, **_what is the correlation between salary and years of experience._**\n",
    "\n",
    "**Objectives**:\n",
    "1. Investigate what is the correlation. \n",
    "    - Obviously, the more years of experience, the higher the salary you get of which you can already identify this trend in the dataset. \n",
    "    - **I am creating a Simple Regression Model which will tell us what is the best fitting line for this relationship.**\n",
    "\n",
    "**Value of this Problem:**\n",
    "- If a company doesn't have a certain set of rules on how to set salaries; I can use this as an example on showing them how. \n",
    "- I can tell them for futuer employees for example, somebody with only 10.5 years of experience exactly what salary package they should get rather randomly guess a number so that _everybody else do not feel comfortable with it_. \n",
    "- It also makes sure the company does not lose money by giving a salary too high according to experience or does not undervalue an employee by giving a lower salary. "
   ]
  },
  {
   "cell_type": "markdown",
   "metadata": {},
   "source": [
    "# Simple Linear Regression Intuition \n",
    "\n",
    "## Explaining the Formula\n",
    "\n",
    "Simple Linear Regression is best expressed through the formula:\n",
    "                        **_y = b0 + b1*x1_**\n",
    "                        \n",
    "**_y_** is the dependent variable (something you're trying to explain) - how does a person's salary change with the years of experience he has?\n",
    "\n",
    "**_x_** is the independent variable, in Simple Linear Regression there is only one independnet variable \"x\". \n",
    "- Sometimes, I assume that 'x' is causing the dependent variable to change\n",
    "- Sometimes the independent variable 'x' might not be the direct casual factor but there still might be an _implied association between the two_\n",
    "\n",
    "**b1**, think of it as the multiplier; it explains how the effect of how a change in unit X1 will affect the unit change in Y. \n",
    "\n",
    "## Simple Linear Regression Applied\n",
    "In this regression example, I looked at the hard facts and visualised the data of people in the company with salary on the y-axis and experience on the x-axis. \n",
    "\n",
    "Essentially, I am putting a line through the chart that best fits this data **__best-fitting_**. From this line, we will have our Simple Linear Regression line in the formula y = b0 + b1*x1.\n",
    "- B1 is the slope of the line, the steeper the line the more you get more per year of experience. \n",
    "\n",
    "## Best Fitting Line \n",
    "\n",
    "Simple Linear Regression will find this best fitting line for you: \n",
    "- **Ordinary Least Sqaured Method -** To get the best fitting line, I took the sum of the difference between the observed point and the modelled test point squared. \n",
    "- Then finding the minimum of the above sum of squares, thus finding the line which has the smallest sum of squares possible. \n",
    "- This is the best fitting line and how Simple Linear Regression works. "
   ]
  },
  {
   "cell_type": "markdown",
   "metadata": {},
   "source": [
    "# Data Preprocessing "
   ]
  },
  {
   "cell_type": "code",
   "execution_count": 2,
   "metadata": {},
   "outputs": [],
   "source": [
    "#Importing libraries\n",
    "import numpy as np \n",
    "import pandas as pd\n",
    "import matplotlib.pyplot as plt"
   ]
  },
  {
   "cell_type": "code",
   "execution_count": 6,
   "metadata": {},
   "outputs": [],
   "source": [
    "#Importing dataset\n",
    "\n",
    "dataset = pd.read_csv('Salary_Data.csv')\n",
    "X = dataset.iloc[:,:-1].values\n",
    "Y = dataset.iloc[:,1].values"
   ]
  },
  {
   "cell_type": "markdown",
   "metadata": {},
   "source": [
    "## Splitting Dataset\n",
    "The splitting of the dataset into training set and test set; the model will learn the correlations between the years of experience and salary on the training set and then I will test the performance of its model (_power of prediction_) on the test set. "
   ]
  },
  {
   "cell_type": "code",
   "execution_count": 9,
   "metadata": {},
   "outputs": [],
   "source": [
    "#Splitting dataset into training set and test set\n",
    "from sklearn.cross_validation import train_test_split\n",
    "X_train,X_test,Y_train,Y_test = train_test_split(X,Y,test_size=1/3,random_state=0)"
   ]
  },
  {
   "cell_type": "markdown",
   "metadata": {},
   "source": [
    "## Fitting Simple Linear Regression to Training Set\n",
    "from \n",
    "I created an object of the class **sklearn** and of class **Linear Regression**. I then fitted Simple Linear Regression to the training set.\n",
    "- I used the fit method to fit simple linear regression object to my training set thus my **simple linear regressor learned the correlations**"
   ]
  },
  {
   "cell_type": "code",
   "execution_count": 13,
   "metadata": {},
   "outputs": [
    {
     "data": {
      "text/plain": [
       "LinearRegression(copy_X=True, fit_intercept=True, n_jobs=1, normalize=False)"
      ]
     },
     "execution_count": 13,
     "metadata": {},
     "output_type": "execute_result"
    }
   ],
   "source": [
    "from sklearn.linear_model import LinearRegression\n",
    "regressor = LinearRegression()\n",
    "regressor.fit(X_train,Y_train)"
   ]
  },
  {
   "cell_type": "markdown",
   "metadata": {},
   "source": [
    "## Predicting the Test Set Results\n",
    "I set out to predict the dependent variable (**Salary**) BASED on independent variable (**Years of Experience**)\n",
    "- I created a single vector containing predicted salaries called **_y_pred_**\n",
    "- **y_pred_** is a vector prediction of dependent variables (predicted salaries of test sets)\n",
    "- To clarify once more, y_pred is the prediction of the x_test set. "
   ]
  },
  {
   "cell_type": "code",
   "execution_count": 14,
   "metadata": {},
   "outputs": [],
   "source": [
    "y_pred = regressor.predict(X_test)"
   ]
  },
  {
   "cell_type": "markdown",
   "metadata": {},
   "source": [
    "## Visualising Training Set Results (Real Data)"
   ]
  },
  {
   "cell_type": "code",
   "execution_count": 21,
   "metadata": {},
   "outputs": [
    {
     "data": {
      "image/png": "[encoded data removed]",
      "text/plain": [
       "<Figure size 432x288 with 1 Axes>"
      ]
     },
     "metadata": {},
     "output_type": "display_data"
    }
   ],
   "source": [
    "plt.scatter(X_train, Y_train,color=\"red\")\n",
    "#Plotting prediction/regression line \n",
    "plt.plot(X_train,regressor.predict(X_train),color='blue')\n",
    "#Improving out visualisation\n",
    "plt.title(\"Salary Vs Experience (Training Set)\")\n",
    "plt.xlabel(\"Years of Experience\")\n",
    "plt.ylabel(\"Salary\")\n",
    "plt.show()"
   ]
  },
  {
   "cell_type": "markdown",
   "metadata": {},
   "source": [
    "## Visualising Test Set Results\n",
    "In this new graph, we will keep the blue line above but we will plot in the next graph the test points of the observation points. "
   ]
  },
  {
   "cell_type": "code",
   "execution_count": 26,
   "metadata": {},
   "outputs": [
    {
     "data": {
      "image/png": "[encoded data removed]",
      "text/plain": [
       "<Figure size 432x288 with 1 Axes>"
      ]
     },
     "metadata": {},
     "output_type": "display_data"
    }
   ],
   "source": [
    "plt.scatter(X_test,Y_test,color=\"red\")\n",
    "plt.plot(X_train,regressor.predict(X_train),color=\"blue\")\n",
    "#Our regressor is already trained on the training set\n",
    "#Whether we keep training set or replaced by test set\n",
    "#We will obtain same simple linear regression line\n",
    "plt.title(\"Salary Vs Experience (Test Set)\")\n",
    "plt.xlabel(\"Years of Experience\")\n",
    "plt.ylabel(\"Salary\")\n",
    "plt.show()"
   ]
  },
  {
   "cell_type": "markdown",
   "metadata": {},
   "source": [
    "### Observations\n",
    "The red points are the observation points of the test set, before it was the observation points of the training set. \n",
    "- Linear regression looks really good giving accurate predictions with this above graph. \n",
    "- Linear regression model is able to predict any observations thanks to this _linear dependency between the salary and their years of experience_\n",
    "\n",
    "## Summary\n",
    "Machine learning means we trained the simple linear regression machine model of the training set to be able to make some future predictions. \n",
    "\n",
    "We can make new predictions of salaries with new employees have other years of experience and that will give us some great prediction of its salary using this model even if it was not in the original dataset observation point. "
   ]
  },
  {
   "cell_type": "code",
   "execution_count": null,
   "metadata": {},
   "outputs": [],
   "source": []
  }
 ],
 "metadata": {
  "kernelspec": {
   "display_name": "Python 3",
   "language": "python",
   "name": "python3"
  },
  "language_info": {
   "codemirror_mode": {
    "name": "ipython",
    "version": 3
   },
   "file_extension": ".py",
   "mimetype": "text/x-python",
   "name": "python",
   "nbconvert_exporter": "python",
   "pygments_lexer": "ipython3",
   "version": "3.6.5"
  }
 },
 "nbformat": 4,
 "nbformat_minor": 2
}
